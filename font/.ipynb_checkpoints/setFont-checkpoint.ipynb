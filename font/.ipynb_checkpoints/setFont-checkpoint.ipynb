{
 "cells": [
  {
   "cell_type": "code",
   "execution_count": 1,
   "id": "225bfcfd-0fb5-4160-ade3-beca8d77a920",
   "metadata": {},
   "outputs": [
    {
     "name": "stdout",
     "output_type": "stream",
     "text": [
      "/root/miniconda3/envs/normalpython/lib/python3.9/site-packages/matplotlib/mpl-data/matplotlibrc\n"
     ]
    }
   ],
   "source": [
    "import matplotlib # run in python\n",
    "print(matplotlib.matplotlib_fname()) # run in python\n",
    "# /root/anaconda3/lib/python3.9/site-packages/matplotlib/mpl-data/matplotlibrc"
   ]
  },
  {
   "cell_type": "code",
   "execution_count": 2,
   "id": "ad287f93-49f4-4d9c-93b0-1bd81fe5cabc",
   "metadata": {},
   "outputs": [
    {
     "ename": "SyntaxError",
     "evalue": "invalid syntax (823121219.py, line 1)",
     "output_type": "error",
     "traceback": [
      "\u001b[0;36m  Cell \u001b[0;32mIn[2], line 1\u001b[0;36m\u001b[0m\n\u001b[0;31m    cp /usr/share/fonts/simhei/SimHei.ttf /root/miniconda3/envs/normalpython/lib/python3.9/site-packages/matplotlib/mpl-data/fonts/ttf/ # 这里根据上一步的结果自行调整\u001b[0m\n\u001b[0m                                                                                        ^\u001b[0m\n\u001b[0;31mSyntaxError\u001b[0m\u001b[0;31m:\u001b[0m invalid syntax\n"
     ]
    }
   ],
   "source": [
    "cp /usr/share/fonts/simhei/SimHei.ttf /root/miniconda3/envs/normalpython/lib/python3.9/site-packages/matplotlib/mpl-data/fonts/ttf/ # 这里根据上一步的结果自行调整\n",
    " \n",
    "rm ~/.cache/matplotlib/fontlist-v330.json # 清除缓存"
   ]
  },
  {
   "cell_type": "code",
   "execution_count": null,
   "id": "4a3d2492-daf8-473f-a088-3a5c19f37bb4",
   "metadata": {},
   "outputs": [],
   "source": []
  }
 ],
 "metadata": {
  "kernelspec": {
   "display_name": "normalpython",
   "language": "python",
   "name": "normalpython"
  },
  "language_info": {
   "codemirror_mode": {
    "name": "ipython",
    "version": 3
   },
   "file_extension": ".py",
   "mimetype": "text/x-python",
   "name": "python",
   "nbconvert_exporter": "python",
   "pygments_lexer": "ipython3",
   "version": "3.9.18"
  }
 },
 "nbformat": 4,
 "nbformat_minor": 5
}
