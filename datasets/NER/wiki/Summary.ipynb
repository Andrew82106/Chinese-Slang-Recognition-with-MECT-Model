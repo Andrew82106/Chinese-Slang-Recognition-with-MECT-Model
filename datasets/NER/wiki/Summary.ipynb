{
 "cells": [
  {
   "cell_type": "code",
   "execution_count": 1,
   "id": "initial_id",
   "metadata": {
    "collapsed": true,
    "ExecuteTime": {
     "end_time": "2023-12-30T08:34:08.314893Z",
     "start_time": "2023-12-30T08:34:07.851203Z"
    }
   },
   "outputs": [
    {
     "name": "stdout",
     "output_type": "stream",
     "text": [
      "354026\n"
     ]
    }
   ],
   "source": [
    "with open(\"./wiki.bmes\", \"r\", encoding='utf-8') as f:\n",
    "    cont = f.read()\n",
    "    print(cont.count(\"。 O\"))"
   ]
  },
  {
   "cell_type": "code",
   "execution_count": 2,
   "outputs": [
    {
     "name": "stdout",
     "output_type": "stream",
     "text": [
      "194749\n"
     ]
    }
   ],
   "source": [
    "with open(\"./wiki_old.bmes\", \"r\", encoding='utf-8') as f:\n",
    "    cont = f.read()\n",
    "    print(cont.count(\"。 O\"))"
   ],
   "metadata": {
    "collapsed": false,
    "ExecuteTime": {
     "end_time": "2023-12-30T08:35:13.587308Z",
     "start_time": "2023-12-30T08:35:13.395137Z"
    }
   },
   "id": "82cb8874430e93ac"
  },
  {
   "cell_type": "code",
   "execution_count": null,
   "outputs": [],
   "source": [],
   "metadata": {
    "collapsed": false
   },
   "id": "5297126aa4a68e8f"
  }
 ],
 "metadata": {
  "kernelspec": {
   "display_name": "Python 3",
   "language": "python",
   "name": "python3"
  },
  "language_info": {
   "codemirror_mode": {
    "name": "ipython",
    "version": 2
   },
   "file_extension": ".py",
   "mimetype": "text/x-python",
   "name": "python",
   "nbconvert_exporter": "python",
   "pygments_lexer": "ipython2",
   "version": "2.7.6"
  }
 },
 "nbformat": 4,
 "nbformat_minor": 5
}
